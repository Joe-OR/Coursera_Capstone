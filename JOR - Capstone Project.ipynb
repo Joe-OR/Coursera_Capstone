{
 "cells": [
  {
   "cell_type": "markdown",
   "id": "advised-shade",
   "metadata": {},
   "source": [
    "# Capstone Project\n",
    "## This project will be mainly used for the Capstone Project\n",
    "\n",
    "# PART 1"
   ]
  },
  {
   "cell_type": "code",
   "execution_count": 28,
   "id": "chicken-powell",
   "metadata": {},
   "outputs": [
    {
     "name": "stdout",
     "output_type": "stream",
     "text": [
      "Libraries have been imported :)\n"
     ]
    }
   ],
   "source": [
    "import pandas as pd\n",
    "import numpy as np\n",
    "print(\"Libraries have been imported :)\")"
   ]
  },
  {
   "cell_type": "code",
   "execution_count": 29,
   "id": "attractive-emperor",
   "metadata": {},
   "outputs": [
    {
     "name": "stdout",
     "output_type": "stream",
     "text": [
      "Hello Capstone Project Course!\n"
     ]
    }
   ],
   "source": [
    "print(\"Hello Capstone Project Course!\")"
   ]
  },
  {
   "cell_type": "markdown",
   "id": "stone-plumbing",
   "metadata": {},
   "source": [
    "# PART 2"
   ]
  },
  {
   "cell_type": "markdown",
   "id": "french-transition",
   "metadata": {},
   "source": [
    "##### For this assignment, you will be required to explore and cluster the neighborhoods in Toronto. Use the Notebook to build the code to scrape the following Wikipedia page, https://en.wikipedia.org/wiki/List_of_postal_codes_of_Canada:_M, in order to obtain the data that is in the table of postal codes and to transform the data into a pandas  dataframe."
   ]
  },
  {
   "cell_type": "code",
   "execution_count": 40,
   "id": "answering-battery",
   "metadata": {},
   "outputs": [
    {
     "name": "stdout",
     "output_type": "stream",
     "text": [
      "Requirement already satisfied: lxml in /srv/conda/envs/notebook/lib/python3.6/site-packages (4.6.2)\n",
      "Requirement already satisfied: html5lib in /srv/conda/envs/notebook/lib/python3.6/site-packages (1.1)\n",
      "Requirement already satisfied: six>=1.9 in /srv/conda/envs/notebook/lib/python3.6/site-packages (from html5lib) (1.15.0)\n",
      "Requirement already satisfied: webencodings in /srv/conda/envs/notebook/lib/python3.6/site-packages (from html5lib) (0.5.1)\n",
      "Requirement already satisfied: bs4 in /srv/conda/envs/notebook/lib/python3.6/site-packages (0.0.1)\n",
      "Requirement already satisfied: beautifulsoup4 in /srv/conda/envs/notebook/lib/python3.6/site-packages (from bs4) (4.9.3)\n",
      "Requirement already satisfied: soupsieve>1.2 in /srv/conda/envs/notebook/lib/python3.6/site-packages (from beautifulsoup4->bs4) (2.2)\n",
      "Collecting package metadata (current_repodata.json): done\n",
      "Solving environment: done\n",
      "\n",
      "# All requested packages already installed.\n",
      "\n"
     ]
    }
   ],
   "source": [
    "#Import the Canada Post Codes Table from the Wikipedia page\n",
    "!pip install lxml\n",
    "!pip install html5lib\n",
    "!pip install bs4\n",
    "!conda install -c conda lxml --yes\n",
    "\n",
    "import lxml\n",
    "url = \"https://en.wikipedia.org/wiki/List_of_postal_codes_of_Canada:_M\"\n",
    "df = pd.read_html(url)[0]\n",
    "df = pd.read_html(url, header=0, flavor='html5lib')[0]\n",
    "\n",
    "#Rename Columns to match those in the Project\n",
    "df.rename(index=str, columns={\"Postal Code\":\"PostalCode\",\"Neighbourhood\":\"Neighborhood\"}, inplace=True)\n"
   ]
  },
  {
   "cell_type": "code",
   "execution_count": 41,
   "id": "dying-channel",
   "metadata": {},
   "outputs": [
    {
     "data": {
      "text/html": [
       "<div>\n",
       "<style scoped>\n",
       "    .dataframe tbody tr th:only-of-type {\n",
       "        vertical-align: middle;\n",
       "    }\n",
       "\n",
       "    .dataframe tbody tr th {\n",
       "        vertical-align: top;\n",
       "    }\n",
       "\n",
       "    .dataframe thead th {\n",
       "        text-align: right;\n",
       "    }\n",
       "</style>\n",
       "<table border=\"1\" class=\"dataframe\">\n",
       "  <thead>\n",
       "    <tr style=\"text-align: right;\">\n",
       "      <th></th>\n",
       "      <th>index</th>\n",
       "      <th>PostalCode</th>\n",
       "      <th>Borough</th>\n",
       "      <th>Neighborhood</th>\n",
       "    </tr>\n",
       "  </thead>\n",
       "  <tbody>\n",
       "    <tr>\n",
       "      <th>0</th>\n",
       "      <td>2</td>\n",
       "      <td>M3A</td>\n",
       "      <td>North York</td>\n",
       "      <td>Parkwoods</td>\n",
       "    </tr>\n",
       "    <tr>\n",
       "      <th>1</th>\n",
       "      <td>3</td>\n",
       "      <td>M4A</td>\n",
       "      <td>North York</td>\n",
       "      <td>Victoria Village</td>\n",
       "    </tr>\n",
       "    <tr>\n",
       "      <th>2</th>\n",
       "      <td>4</td>\n",
       "      <td>M5A</td>\n",
       "      <td>Downtown Toronto</td>\n",
       "      <td>Regent Park, Harbourfront</td>\n",
       "    </tr>\n",
       "    <tr>\n",
       "      <th>3</th>\n",
       "      <td>5</td>\n",
       "      <td>M6A</td>\n",
       "      <td>North York</td>\n",
       "      <td>Lawrence Manor, Lawrence Heights</td>\n",
       "    </tr>\n",
       "    <tr>\n",
       "      <th>4</th>\n",
       "      <td>6</td>\n",
       "      <td>M7A</td>\n",
       "      <td>Downtown Toronto</td>\n",
       "      <td>Queen's Park, Ontario Provincial Government</td>\n",
       "    </tr>\n",
       "  </tbody>\n",
       "</table>\n",
       "</div>"
      ],
      "text/plain": [
       "  index PostalCode           Borough  \\\n",
       "0     2        M3A        North York   \n",
       "1     3        M4A        North York   \n",
       "2     4        M5A  Downtown Toronto   \n",
       "3     5        M6A        North York   \n",
       "4     6        M7A  Downtown Toronto   \n",
       "\n",
       "                                  Neighborhood  \n",
       "0                                    Parkwoods  \n",
       "1                             Victoria Village  \n",
       "2                    Regent Park, Harbourfront  \n",
       "3             Lawrence Manor, Lawrence Heights  \n",
       "4  Queen's Park, Ontario Provincial Government  "
      ]
     },
     "execution_count": 41,
     "metadata": {},
     "output_type": "execute_result"
    }
   ],
   "source": [
    "#Remove the unassigned Borough\n",
    "df = df[df[\"Borough\"] != \"Not assigned\"].reset_index()\n",
    "df.head()\n"
   ]
  },
  {
   "cell_type": "code",
   "execution_count": 42,
   "id": "amber-pharmaceutical",
   "metadata": {},
   "outputs": [
    {
     "name": "stdout",
     "output_type": "stream",
     "text": [
      "df.shape[0] = 103 and df2.shape[0] =  103\n",
      "There are no duplicates to remove anyway, but the above code would have removed them if there were any\n"
     ]
    }
   ],
   "source": [
    "# Combine records for same Postal Code but with multiple Neighbourhoods into one row \n",
    "# with the neighborhoods separated with a comma\n",
    "# Check if PostalCode is unique for every row and there are no doubled postal codes\n",
    "\n",
    "df2 = df.groupby(by=['PostalCode','Borough']).agg(lambda x: ','.join(x)) \n",
    "df2.head()\n",
    "\n",
    "print(\"df.shape[0] =\", df.shape[0], \"and df2.shape[0] = \", df2.shape[0])\n",
    "print(\"There are no duplicates to remove anyway, but the above code would have removed them if there were any\")"
   ]
  },
  {
   "cell_type": "code",
   "execution_count": 47,
   "id": "frozen-iceland",
   "metadata": {},
   "outputs": [
    {
     "name": "stdout",
     "output_type": "stream",
     "text": [
      "There are no instances where neighborhood = 'Not assigned'\n"
     ]
    }
   ],
   "source": [
    "# If a cell has a borough but a \"Not assigned\"  neighborhood, then the neighborhood will be the same as the borough.\n",
    "df2[df2[\"Neighborhood\"]==\"Not assigned\"]\n",
    "print(\"There are no instances where neighborhood = 'Not assigned'\")"
   ]
  },
  {
   "cell_type": "code",
   "execution_count": 49,
   "id": "pleasant-picking",
   "metadata": {},
   "outputs": [
    {
     "name": "stdout",
     "output_type": "stream",
     "text": [
      "There are 103 records in the final dataset\n"
     ]
    }
   ],
   "source": [
    "print(\"There are\", df2.shape[0], \"records in the final dataset\")"
   ]
  }
 ],
 "metadata": {
  "kernelspec": {
   "display_name": "Python 3",
   "language": "python",
   "name": "python3"
  },
  "language_info": {
   "codemirror_mode": {
    "name": "ipython",
    "version": 3
   },
   "file_extension": ".py",
   "mimetype": "text/x-python",
   "name": "python",
   "nbconvert_exporter": "python",
   "pygments_lexer": "ipython3",
   "version": "3.6.12"
  }
 },
 "nbformat": 4,
 "nbformat_minor": 5
}
